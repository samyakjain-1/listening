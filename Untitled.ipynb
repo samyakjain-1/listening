{
 "cells": [
  {
   "cell_type": "code",
   "execution_count": 5,
   "id": "0603c7d0-3cdc-4951-857f-efc1ed65662a",
   "metadata": {},
   "outputs": [],
   "source": [
    "import streamlit as st\n",
    "import json\n",
    "import pandas as pd\n",
    "from pathlib import Path\n",
    "\n",
    "def load_listening_data(json_files):\n",
    "    records = []\n",
    "    for file in json_files:\n",
    "        with open(file, 'r', encoding='utf-8') as f:\n",
    "            data = json.load(f)\n",
    "            records.extend(data)\n",
    "    \n",
    "    df = pd.DataFrame(records)\n",
    "    \n",
    "    # Convert timestamp to datetime\n",
    "    df['ts'] = pd.to_datetime(df['ts'])\n",
    "    df['date'] = df['ts'].dt.date\n",
    "    \n",
    "    # Filter only rows with valid track name\n",
    "    df = df[df['master_metadata_track_name'].notnull()]\n",
    "    \n",
    "    return df\n",
    "\n",
    "# 🔽 Add your JSON file names here\n",
    "json_files = ['Streaming_History_A.json', 'Streaming_History_B.json']\n",
    "\n",
    "# Load data\n",
    "df = load_listening_data(json_files)\n",
    "\n",
    "# Streamlit UI\n",
    "st.title(\"🎧 My Spotify Listening Calendar\")\n",
    "\n",
    "selected_date = st.date_input(\"Select a date to see what you listened to\")\n",
    "\n",
    "tracks_on_date = df[df['date'] == selected_date]\n",
    "\n",
    "if not tracks_on_date.empty:\n",
    "    st.write(f\"Tracks listened on {selected_date}:\")\n",
    "    for _, row in tracks_on_date.iterrows():\n",
    "        st.markdown(f\"- **{row['master_metadata_track_name']}** by *{row['master_metadata_album_artist_name']}*\")\n",
    "else:\n",
    "    st.write(\"No tracks found on this date.\")\n"
   ]
  },
  {
   "cell_type": "code",
   "execution_count": null,
   "id": "eb0ebceb-a0f7-4b9b-9251-516d3c239b19",
   "metadata": {},
   "outputs": [],
   "source": []
  }
 ],
 "metadata": {
  "kernelspec": {
   "display_name": "Python 3 (ipykernel)",
   "language": "python",
   "name": "python3"
  },
  "language_info": {
   "codemirror_mode": {
    "name": "ipython",
    "version": 3
   },
   "file_extension": ".py",
   "mimetype": "text/x-python",
   "name": "python",
   "nbconvert_exporter": "python",
   "pygments_lexer": "ipython3",
   "version": "3.12.2"
  }
 },
 "nbformat": 4,
 "nbformat_minor": 5
}
